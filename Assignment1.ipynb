{
 "cells": [
  {
   "cell_type": "code",
   "execution_count": 1,
   "id": "e638285d-c83c-4c51-b614-3b8ad73011e3",
   "metadata": {},
   "outputs": [],
   "source": [
    "import pandas as pd\n",
    "import matplotlib.pyplot as plt\n",
    "from pandas.api.types import is_numeric_dtype\n",
    "from sklearn.datasets import make_blobs\n",
    "from sklearn.cluster import KMeans\n",
    "from sklearn.preprocessing import StandardScaler\n",
    "import seaborn as sns\n",
    "\n",
    "\n",
    "df = pd.read_csv(\"historical-weather.csv\")\n",
    "\n",
    "# drop time stamp because it's not beneficial to our study.\n",
    "df = df.drop(columns=[\"hpwren_timestamp\"])"
   ]
  },
  {
   "cell_type": "code",
   "execution_count": 2,
   "id": "b6ca5d55-3bd2-494b-8582-acc1f7394e32",
   "metadata": {},
   "outputs": [],
   "source": [
    "# Explore the data\n",
    "# df.describe()\n"
   ]
  },
  {
   "cell_type": "code",
   "execution_count": 3,
   "id": "fcf115ab-9562-42ce-9dff-e4bb6960bf89",
   "metadata": {},
   "outputs": [],
   "source": [
    "# Checking for null value in dataframe\n",
    "# df.isna().sum()"
   ]
  },
  {
   "cell_type": "code",
   "execution_count": 4,
   "id": "2407a521-3961-47b2-b525-52a3be2294cb",
   "metadata": {},
   "outputs": [],
   "source": [
    "# Fill in null value with 0.\n",
    "# df = df.fillna(0)\n",
    "\n",
    "# Check null value in dataframe again to make sure\n",
    "# df.isna().sum()"
   ]
  },
  {
   "cell_type": "code",
   "execution_count": 5,
   "id": "bcdca4a0-c4a2-4137-be79-d3acbcdb609a",
   "metadata": {},
   "outputs": [],
   "source": [
    "# Dataset 2 now doesn't contain NaN value, but we still need to scale the data so that it works better with KMeans\n",
    "\n",
    "# Scaled the data \n",
    "# scaler = StandardScaler()\n",
    "# scaler.fit(df.iloc[:,1:])\n",
    "# scaled_data = scaler.transform(df.iloc[:,1:])\n",
    "# scaled_data"
   ]
  },
  {
   "cell_type": "code",
   "execution_count": null,
   "id": "116e306a-febd-4e02-85f5-8047d72add80",
   "metadata": {},
   "outputs": [],
   "source": []
  },
  {
   "cell_type": "code",
   "execution_count": null,
   "id": "cd13d9df-398a-4fbf-a2ce-e392a59a017d",
   "metadata": {},
   "outputs": [],
   "source": [
    "\n"
   ]
  },
  {
   "cell_type": "markdown",
   "id": "8db09159-7a90-4122-8a38-b68cb7ad8ccc",
   "metadata": {},
   "source": [
    "# Part 2: Implement KMeans in Python"
   ]
  },
  {
   "cell_type": "code",
   "execution_count": 6,
   "id": "8228c487-04fc-4359-ab74-93de3104fbaf",
   "metadata": {},
   "outputs": [
    {
     "name": "stdout",
     "output_type": "stream",
     "text": [
      "Original cluster is\n",
      "[7.66867497 6.68713236]\n",
      "_____________\n",
      "After recenter:\n",
      "Original cluster is\n",
      "[8.24259038 0.89963243]\n",
      "_____________\n",
      "After recenter:\n",
      "Original cluster is\n",
      "[ 7.82495357 -1.67525488]\n",
      "_____________\n",
      "After recenter:\n"
     ]
    },
    {
     "data": {
      "text/plain": [
       "array([ 7.82495357, -1.67525488])"
      ]
     },
     "execution_count": 6,
     "metadata": {},
     "output_type": "execute_result"
    }
   ],
   "source": [
    "from KMeans import KMeans\n",
    "centers = KMeans(n_clusters=2, max_iter=30,random_state=None)\n",
    "features, targets = make_blobs(n_samples=1000, n_features=1)\n",
    "\n",
    "centers.fit(features)"
   ]
  },
  {
   "cell_type": "code",
   "execution_count": null,
   "id": "a3de66ed-0846-48ed-9c82-65926f652563",
   "metadata": {},
   "outputs": [],
   "source": []
  },
  {
   "cell_type": "code",
   "execution_count": null,
   "id": "293dc110-9ca0-411b-b3bd-82af8fe0ad4f",
   "metadata": {},
   "outputs": [],
   "source": []
  },
  {
   "cell_type": "code",
   "execution_count": null,
   "id": "f8252503-1d86-4e7a-9a31-4b82b91f9295",
   "metadata": {},
   "outputs": [],
   "source": []
  },
  {
   "cell_type": "code",
   "execution_count": null,
   "id": "6fe9a902-bc96-4fd8-9396-5e3965e45602",
   "metadata": {},
   "outputs": [],
   "source": []
  }
 ],
 "metadata": {
  "kernelspec": {
   "display_name": "Python 3 (ipykernel)",
   "language": "python",
   "name": "python3"
  },
  "language_info": {
   "codemirror_mode": {
    "name": "ipython",
    "version": 3
   },
   "file_extension": ".py",
   "mimetype": "text/x-python",
   "name": "python",
   "nbconvert_exporter": "python",
   "pygments_lexer": "ipython3",
   "version": "3.9.5"
  }
 },
 "nbformat": 4,
 "nbformat_minor": 5
}
